{
 "cells": [
  {
   "cell_type": "markdown",
   "id": "fba98eaf",
   "metadata": {},
   "source": [
    "# Reinforcement Learning für Autonomes Fahren - Highway Agent"
   ]
  },
  {
   "cell_type": "markdown",
   "id": "c19aedb0",
   "metadata": {},
   "source": [
    "## 1. Imports"
   ]
  },
  {
   "cell_type": "code",
   "execution_count": null,
   "id": "0ee4f0d0",
   "metadata": {},
   "outputs": [],
   "source": [
    "import gymnasium as gym\n",
    "import highway_env\n",
    "import torch\n",
    "import torch.nn as nn\n",
    "import torch.optim as optim\n",
    "import torch.nn.functional as F\n",
    "import numpy as np\n",
    "import random\n",
    "from collections import deque, namedtuple\n",
    "import matplotlib.pyplot as plt\n",
    "from IPython import display\n",
    "from moviepy import ImageSequenceClip\n",
    "from IPython.display import Image"
   ]
  },
  {
   "cell_type": "markdown",
   "id": "c1f174d8",
   "metadata": {},
   "source": [
    "## 2. Hyperparameters"
   ]
  },
  {
   "cell_type": "code",
   "execution_count": null,
   "id": "eb48958e",
   "metadata": {},
   "outputs": [
    {
     "name": "stdout",
     "output_type": "stream",
     "text": [
      "Using device: cpu\n"
     ]
    }
   ],
   "source": [
    "BUFFER_SIZE = int(1e5)\n",
    "BATCH_SIZE = 256\n",
    "GAMMA = 0.99\n",
    "LR = 1e-4\n",
    "TAU = 1e-3 \n",
    "EPS_START = 1.0\n",
    "EPS_END = 0.01\n",
    "EPS_DECAY = 0.995 \n",
    "\n",
    "# Schauen, ob CUDA verfügbar ist und das Gerät entsprechend setzen\n",
    "device = torch.device(\"cuda\" if torch.cuda.is_available() else \"cpu\")\n",
    "print(f\"Using device: {device}\")"
   ]
  },
  {
   "cell_type": "markdown",
   "id": "d1eb8854",
   "metadata": {},
   "source": [
    "## 3. Replay Buffer\n",
    "Speichert die Erfahrungen des Agenten und ermöglicht das zufällige Sampeln von Batches."
   ]
  },
  {
   "cell_type": "code",
   "execution_count": null,
   "id": "411b3d66",
   "metadata": {},
   "outputs": [],
   "source": [
    "Experience = namedtuple(\"Experience\", field_names=[\"state\", \"action\", \"reward\", \"next_state\", \"done\"])\n",
    "\n",
    "class ReplayBuffer:\n",
    "    def __init__(self, buffer_size, batch_size):\n",
    "        self.memory = deque(maxlen=buffer_size)\n",
    "        self.batch_size = batch_size\n",
    "\n",
    "    # Fügt eine Erfahrung zum Replay Buffer hinzu\n",
    "    def add(self, state, action, reward, next_state, done):\n",
    "        e = Experience(state, action, reward, next_state, done)\n",
    "        self.memory.append(e)\n",
    "\n",
    "    # Entnimmt eine zufällige Stichprobe von Erfahrungen aus dem Replay Buffer\n",
    "    def sample(self):\n",
    "        experiences = random.sample(self.memory, k=self.batch_size)\n",
    "\n",
    "        states = torch.tensor(np.vstack([e.state for e in experiences]), dtype=torch.float32).to(device)\n",
    "        actions = torch.tensor(np.vstack([e.action for e in experiences]), dtype=torch.int64).to(device)\n",
    "        rewards = torch.tensor(np.vstack([e.reward for e in experiences]), dtype=torch.float32).to(device)\n",
    "        next_states = torch.tensor(np.vstack([e.next_state for e in experiences]), dtype=torch.float32).to(device)\n",
    "        dones = torch.tensor(np.vstack([e.done for e in experiences]).astype(np.uint8), dtype=torch.float32).to(device)\n",
    "\n",
    "        return (states, actions, rewards, next_states, dones)\n",
    "\n",
    "    def __len__(self):\n",
    "        return len(self.memory)"
   ]
  },
  {
   "cell_type": "markdown",
   "id": "5cf66630",
   "metadata": {},
   "source": [
    "## 4. Q-Network (Neuronales Netz)\n",
    "Ein MLP welches aus einem Zustand die Q-Werte für alle Aktionen schätzt"
   ]
  },
  {
   "cell_type": "code",
   "execution_count": null,
   "id": "58f5065a",
   "metadata": {},
   "outputs": [],
   "source": [
    "class QNetwork(nn.Module):\n",
    "    # Initialisiert das Q-Netzwerk mit den gegebenen Parametern\n",
    "    def __init__(self, state_size, action_size, seed):\n",
    "        super(QNetwork, self).__init__()\n",
    "        self.seed = torch.manual_seed(seed)\n",
    "        self.fc1 = nn.Linear(state_size, 256)\n",
    "        self.fc2 = nn.Linear(256, 128)\n",
    "        self.fc3 = nn.Linear(128, 64)\n",
    "        self.fc4 = nn.Linear(64, action_size)\n",
    "\n",
    "    # Forward Layer für das Q-Netzwerk\n",
    "    def forward(self, state):\n",
    "        x = F.relu(self.fc1(state))\n",
    "        x = F.relu(self.fc2(x))\n",
    "        x = F.relu(self.fc3(x))\n",
    "        return self.fc4(x)"
   ]
  },
  {
   "cell_type": "markdown",
   "id": "0bf2cb19",
   "metadata": {},
   "source": [
    "## 5. DDQN-Agent\n",
    "Der Agent, der mit der Umgebung interagiert und lernt"
   ]
  },
  {
   "cell_type": "code",
   "execution_count": null,
   "id": "a380b882",
   "metadata": {},
   "outputs": [],
   "source": [
    "class DDQNAgent:\n",
    "    def __init__(self, state_size, action_size, seed):\n",
    "        self.state_size = state_size\n",
    "        self.action_size = action_size\n",
    "        self.seed = random.seed(seed)\n",
    "\n",
    "        self.qnetwork_local = QNetwork(state_size, action_size, seed).to(device)\n",
    "        self.qnetwork_target = QNetwork(state_size, action_size, seed).to(device)\n",
    "        self.optimizer = optim.Adam(self.qnetwork_local.parameters(), lr=LR)\n",
    "\n",
    "        self.memory = ReplayBuffer(BUFFER_SIZE, BATCH_SIZE)\n",
    "\n",
    "    # Initialisiert die Q-Netzwerkgewichte\n",
    "    def step(self, state, action, reward, next_state, done):\n",
    "        self.memory.add(state, action, reward, next_state, done)\n",
    "        if len(self.memory) > BATCH_SIZE:\n",
    "            experiences = self.memory.sample()\n",
    "            self.learn(experiences, GAMMA)\n",
    "\n",
    "    # Wählt eine Aktion basierend auf dem aktuellen Zustand \n",
    "    def act(self, state, eps=0.):\n",
    "        state = torch.tensor(state, dtype=torch.float32).unsqueeze(0).to(device)\n",
    "        self.qnetwork_local.eval()\n",
    "        with torch.no_grad():\n",
    "            action_values = self.qnetwork_local(state)\n",
    "        self.qnetwork_local.train()\n",
    "\n",
    "        if random.random() > eps:\n",
    "            return np.argmax(action_values.cpu().data.numpy())\n",
    "        else:\n",
    "            return random.choice(np.arange(self.action_size))\n",
    "    \n",
    "    # Aktualisiert die Gewichte des Q-Netzwerks basierend auf einer Stichprobe\n",
    "    def learn(self, experiences, gamma):\n",
    "        states, actions, rewards, next_states, dones = experiences\n",
    "\n",
    "        best_actions_next = self.qnetwork_local(next_states).detach().max(1)[1].unsqueeze(1)\n",
    "        Q_targets_next = self.qnetwork_target(next_states).gather(1, best_actions_next)\n",
    "\n",
    "        Q_targets = rewards + (gamma * Q_targets_next * (1 - dones))\n",
    "        Q_expected = self.qnetwork_local(states).gather(1, actions)\n",
    "\n",
    "        loss = F.smooth_l1_loss(Q_expected, Q_targets)\n",
    "        self.optimizer.zero_grad()\n",
    "        loss.backward()\n",
    "        self.optimizer.step()\n",
    "\n",
    "        self.soft_update(self.qnetwork_local, self.qnetwork_target, TAU)\n",
    "\n",
    "    # Soft Update\" der Gewichte des Ziel-Netzwerks \n",
    "    def soft_update(self, local_model, target_model, tau):\n",
    "        for target_param, local_param in zip(target_model.parameters(), local_model.parameters()):\n",
    "            target_param.data.copy_(tau * local_param.data + (1.0 - tau) * target_param.data)\n"
   ]
  },
  {
   "cell_type": "markdown",
   "id": "27f19a6a",
   "metadata": {},
   "source": [
    "## 6. Training des Agenten\n",
    "Hier startet die Haupt-Trainingsschleife"
   ]
  },
  {
   "cell_type": "code",
   "execution_count": null,
   "id": "9c52f6f7",
   "metadata": {},
   "outputs": [
    {
     "name": "stdout",
     "output_type": "stream",
     "text": [
      "Episode 100\tAverage Score: 30.95\n",
      "Episode 100\tAverage Score: 30.95\n",
      "Episode 200\tAverage Score: 32.83\n",
      "Episode 200\tAverage Score: 32.83\n",
      "Episode 300\tAverage Score: 38.46\n",
      "Episode 300\tAverage Score: 38.46\n",
      "Episode 400\tAverage Score: 56.78\n",
      "Episode 400\tAverage Score: 56.78\n",
      "Episode 500\tAverage Score: 66.90\n",
      "Episode 500\tAverage Score: 66.90\n",
      "Episode 600\tAverage Score: 70.83\n",
      "Episode 600\tAverage Score: 70.83\n",
      "Episode 700\tAverage Score: 83.93\n",
      "Episode 700\tAverage Score: 83.93\n",
      "Episode 800\tAverage Score: 73.20\n",
      "Episode 800\tAverage Score: 73.20\n",
      "Episode 900\tAverage Score: 77.73\n",
      "Episode 900\tAverage Score: 77.73\n",
      "Episode 1000\tAverage Score: 84.28\n",
      "Episode 1000\tAverage Score: 84.28\n",
      "Episode 1100\tAverage Score: 91.45\n",
      "Episode 1100\tAverage Score: 91.45\n",
      "Episode 1200\tAverage Score: 80.51\n",
      "Episode 1200\tAverage Score: 80.51\n",
      "Episode 1300\tAverage Score: 85.24\n",
      "Episode 1300\tAverage Score: 85.24\n",
      "Episode 1400\tAverage Score: 97.97\n",
      "Episode 1400\tAverage Score: 97.97\n",
      "Episode 1500\tAverage Score: 89.65\n",
      "Episode 1500\tAverage Score: 89.65\n",
      "Episode 1600\tAverage Score: 108.70\n",
      "Episode 1600\tAverage Score: 108.70\n",
      "Episode 1700\tAverage Score: 102.37\n",
      "Episode 1700\tAverage Score: 102.37\n",
      "Episode 1800\tAverage Score: 113.40\n",
      "Episode 1800\tAverage Score: 113.40\n",
      "Episode 1900\tAverage Score: 96.468\n",
      "Episode 1900\tAverage Score: 96.46\n",
      "Episode 2000\tAverage Score: 102.76\n",
      "Episode 2000\tAverage Score: 102.76\n"
     ]
    }
   ],
   "source": [
    "# Erstellung des Gym Environments\n",
    "env = gym.make('highway-v0', render_mode='rgb_array')\n",
    "env.unwrapped.configure({\n",
    "    \"observation\": {\"type\": \"Kinematics\"},\n",
    "    \"action\": {\"type\": \"DiscreteMetaAction\"},\n",
    "    \"simulation_frequency\": 15,\n",
    "    \"policy_frequency\": 5\n",
    "})\n",
    "\n",
    "state, _ = env.reset()\n",
    "state_size = state.flatten().shape[0]\n",
    "action_size = env.action_space.n\n",
    "\n",
    "agent = DDQNAgent(state_size=state_size, action_size=action_size, seed=0)\n",
    "\n",
    "# Training des DDQN-Agenten\n",
    "n_episodes = 2000\n",
    "scores = []\n",
    "scores_window = deque(maxlen=100)\n",
    "eps = EPS_START\n",
    "\n",
    "# Training Schleife\n",
    "for i_episode in range(1, n_episodes + 1):\n",
    "    state, _ = env.reset()\n",
    "    state = state.flatten()\n",
    "    score = 0\n",
    "    done = False\n",
    "\n",
    "    while not done:\n",
    "        action = agent.act(state, eps)\n",
    "        next_state, reward, terminated, truncated, _ = env.step(action)\n",
    "        done = terminated or truncated\n",
    "        next_state = next_state.flatten()\n",
    "\n",
    "        # Belohnung shaping\n",
    "        shaped_reward = reward + 0.1 * next_state[3]\n",
    "        shaped_reward = np.clip(shaped_reward, -1.0, 1.0)\n",
    "\n",
    "        agent.step(state, action, shaped_reward, next_state, done)\n",
    "        state = next_state\n",
    "        score += reward\n",
    "\n",
    "    scores_window.append(score)\n",
    "    scores.append(score)\n",
    "    eps = max(EPS_END, EPS_DECAY * eps)\n",
    "\n",
    "    print(f'\\rEpisode {i_episode}\\tAverage Score: {np.mean(scores_window):.2f}', end=\"\")\n",
    "    if i_episode % 100 == 0:\n",
    "        print(f'\\rEpisode {i_episode}\\tAverage Score: {np.mean(scores_window):.2f}')"
   ]
  },
  {
   "cell_type": "markdown",
   "id": "0399fcb1",
   "metadata": {},
   "source": [
    "## 7. Visualisierung des Trainingsverlaufs"
   ]
  },
  {
   "cell_type": "code",
   "execution_count": null,
   "id": "f7652c96",
   "metadata": {},
   "outputs": [
    {
     "data": {
      "image/png": "[encoded data removed]",
      "text/plain": [
       "<Figure size 640x480 with 1 Axes>"
      ]
     },
     "metadata": {},
     "output_type": "display_data"
    }
   ],
   "source": [
    "fig = plt.figure()\n",
    "ax = fig.add_subplot(111)\n",
    "plt.plot(np.arange(len(scores)), scores, label='Score')\n",
    "\n",
    "# Regressionsgerade berechnen\n",
    "x = np.arange(len(scores))\n",
    "y = np.array(scores)\n",
    "m, b = np.polyfit(x, y, 1)\n",
    "plt.plot(x, m*x + b, color='red', label='Regressionsgerade')\n",
    "\n",
    "plt.ylabel('Score')\n",
    "plt.xlabel('Episode #')\n",
    "plt.title('Trainingsverlauf des DDQN-Agenten')\n",
    "plt.grid()\n",
    "plt.legend()\n",
    "plt.show()"
   ]
  },
  {
   "cell_type": "markdown",
   "id": "e58a1540",
   "metadata": {},
   "source": [
    "## 8. Evaluation und Visualisierung des trainierten Agenten\n",
    "Ausführen des trainierten Agenten und GIF Darstellung"
   ]
  },
  {
   "cell_type": "code",
   "execution_count": null,
   "id": "7981f72f",
   "metadata": {},
   "outputs": [
    {
     "name": "stdout",
     "output_type": "stream",
     "text": [
      "MoviePy - Building file trained_agent.gif with imageio.\n"
     ]
    },
    {
     "name": "stderr",
     "output_type": "stream",
     "text": [
      "                                                                         "
     ]
    },
    {
     "name": "stdout",
     "output_type": "stream",
     "text": [
      "GIF wurde als 'trained_agent.gif' gespeichert.\n"
     ]
    },
    {
     "data": {
      "text/html": [
       "<img src=\"trained_agent.gif\"/>"
      ],
      "text/plain": [
       "<IPython.core.display.Image object>"
      ]
     },
     "execution_count": 29,
     "metadata": {},
     "output_type": "execute_result"
    }
   ],
   "source": [
    "# Erstellen der Evaluierungsumgebung\n",
    "eval_env = gym.make('highway-v0', render_mode='rgb_array')\n",
    "eval_env.unwrapped.configure({\n",
    "    \"observation\": {\"type\": \"Kinematics\"},\n",
    "    \"action\": {\"type\": \"DiscreteMetaAction\"},\n",
    "    \"simulation_frequency\": 15,\n",
    "    \"policy_frequency\": 5\n",
    "})\n",
    "\n",
    "# Durchführung der Evaluation und speichern der Frames\n",
    "frames = []\n",
    "for _ in range(3):\n",
    "    state, _ = eval_env.reset()\n",
    "    state = state.flatten()\n",
    "    done = False\n",
    "    while not done:\n",
    "        frames.append(eval_env.render())\n",
    "        action = agent.act(state, eps=0.0)\n",
    "        next_state, reward, terminated, truncated, _ = eval_env.step(action)\n",
    "        done = terminated or truncated\n",
    "        state = next_state.flatten()\n",
    "\n",
    "eval_env.close()\n",
    "\n",
    "# Erstellen des GIFs aus den Frames\n",
    "clip = ImageSequenceClip(frames, fps=15)\n",
    "clip.write_gif('trained_agent.gif', fps=15)\n",
    "\n",
    "print(\"GIF wurde als 'trained_agent.gif' gespeichert.\")\n",
    "Image(url='trained_agent.gif')"
   ]
  }
 ],
 "metadata": {
  "kernelspec": {
   "display_name": "Python 3",
   "language": "python",
   "name": "python3"
  },
  "language_info": {
   "codemirror_mode": {
    "name": "ipython",
    "version": 3
   },
   "file_extension": ".py",
   "mimetype": "text/x-python",
   "name": "python",
   "nbconvert_exporter": "python",
   "pygments_lexer": "ipython3",
   "version": "3.13.0"
  }
 },
 "nbformat": 4,
 "nbformat_minor": 5
}
